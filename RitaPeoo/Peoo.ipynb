{
  "nbformat": 4,
  "nbformat_minor": 0,
  "metadata": {
    "colab": {
      "provenance": [],
      "authorship_tag": "ABX9TyNg6hILgnENgNEdLTGTFw2t",
      "include_colab_link": true
    },
    "kernelspec": {
      "name": "python3",
      "display_name": "Python 3"
    },
    "language_info": {
      "name": "python"
    }
  },
  "cells": [
    {
      "cell_type": "markdown",
      "metadata": {
        "id": "view-in-github",
        "colab_type": "text"
      },
      "source": [
        "<a href=\"https://colab.research.google.com/github/Ritinhha/Peoo23PY/blob/main/Peoo.ipynb\" target=\"_parent\"><img src=\"https://colab.research.google.com/assets/colab-badge.svg\" alt=\"Open In Colab\"/></a>"
      ]
    },
    {
      "cell_type": "code",
      "execution_count": null,
      "metadata": {
        "colab": {
          "base_uri": "https://localhost:8080/"
        },
        "id": "pHp-9V2_qzVH",
        "outputId": "e1916909-38b4-4181-97e2-558f70cca18e"
      },
      "outputs": [
        {
          "output_type": "stream",
          "name": "stdout",
          "text": [
            "Digite tres valores\n",
            "30\n",
            "60\n",
            "8\n",
            "Circulo: 201.06176\n",
            "Triângulo: 900.0\n",
            "Trapesio: 360.0\n",
            "Quadrado: 3600.0\n",
            "Retângulo: 1800.0\n"
          ]
        }
      ],
      "source": [
        "print('Digite tres valores')\n",
        "A = float(input())\n",
        "B = float(input())\n",
        "C = float(input())\n",
        "Acirculo = C**2*3.14159\n",
        "print(\"Circulo:\", Acirculo )\n",
        "Atriângulo = A*B/2\n",
        "print(\"Triângulo:\", Atriângulo)\n",
        "Atrapézio = (A+B)*C/2\n",
        "print(\"Trapesio:\", Atrapézio)\n",
        "Aquadrado = B*B\n",
        "print(\"Quadrado:\", Aquadrado)\n",
        "Aretângulo = A*B\n",
        "print(\"Retângulo:\", Aretângulo)"
      ]
    },
    {
      "cell_type": "code",
      "source": [
        "print(\"tempo gasto na viagem:\")\n",
        "T = int(input())\n",
        "print(\"Velocidade media:\")\n",
        "V = int(input())\n"
      ],
      "metadata": {
        "id": "1odXvLnk0c_H"
      },
      "execution_count": null,
      "outputs": []
    },
    {
      "cell_type": "markdown",
      "source": [
        "17/04- lista de revisão de decisão 01"
      ],
      "metadata": {
        "id": "zybqWmTsb4o_"
      }
    },
    {
      "cell_type": "code",
      "source": [
        "print(\"digite dois valores inteiros\")\n",
        "A = int(input())\n",
        "B = int(input())\n",
        "if A > B:\n",
        " print(\"maior =\", A)\n",
        "if B > A:\n",
        " print(\"maior =\",B)\n",
        "if A == B:\n",
        " print(\"numeros iguais\")\n"
      ],
      "metadata": {
        "colab": {
          "base_uri": "https://localhost:8080/"
        },
        "id": "xZQbYCLub-EO",
        "outputId": "be362c43-5967-4f2b-9b3b-d1b524e3429d"
      },
      "execution_count": null,
      "outputs": [
        {
          "output_type": "stream",
          "name": "stdout",
          "text": [
            "digite dois valores inteiros\n",
            "2\n",
            "2\n",
            "numeros iguais\n"
          ]
        }
      ]
    },
    {
      "cell_type": "code",
      "source": [
        "print(\"Digite quatro valores inteiros\")\n",
        "A = int(input())\n",
        "B = int(input())\n",
        "C = int(input())\n",
        "D = int(input())\n",
        "M = (A + B + C + D)/4\n",
        "print(\"Media aritmetica:\", M)\n",
        "print(\"Numeros menores que a media:\")\n",
        "if A < M:\n",
        "  print(A)\n",
        "if B < M:\n",
        "  print(B)\n",
        "if C < M:\n",
        "  print(C)\n",
        "if D < M:\n",
        "  print(D)\n",
        "print(\"Numeros maiores que a media:\")\n",
        "if A >= M:\n",
        "  print(A)\n",
        "if B >= M:\n",
        "  print(B)\n",
        "if C >= M:\n",
        "  print(C)\n",
        "if D >= M:\n",
        "  print(D)\n"
      ],
      "metadata": {
        "colab": {
          "base_uri": "https://localhost:8080/"
        },
        "id": "XZc8-UU6qDDs",
        "outputId": "58304fb0-64ed-48d8-f18c-b732636bed1f"
      },
      "execution_count": null,
      "outputs": [
        {
          "output_type": "stream",
          "name": "stdout",
          "text": [
            "Digite quatro valores inteiros\n",
            "3\n",
            "5\n",
            "2\n",
            "10\n",
            "Media aritmetica: 5.0\n",
            "Numeros menores que a media:\n",
            "3\n",
            "2\n",
            "Numeros maiores que a media:\n",
            "5\n",
            "10\n"
          ]
        }
      ]
    },
    {
      "cell_type": "code",
      "source": [
        "print(\"Digite quatro valores inteiros\")\n",
        "A = int(input())\n",
        "B = int(input())\n",
        "C = int(input())\n",
        "D = int(input())\n",
        "somaPar = 0\n",
        "somaImpar = 0\n",
        "if( A%2==0 ):\n",
        " somaPar+=A\n",
        "else:\n",
        " somaImpar+=A\n",
        "if( B%2==0 ):\n",
        " somaPar+=B\n",
        "else:\n",
        " somaImpar+=B\n",
        "if( C%2==0 ):\n",
        " somaPar+=C\n",
        "else:\n",
        " somaImpar+=C\n",
        "if( D%2==0 ):\n",
        " somaPar+=D\n",
        "else:\n",
        " somaImpar+=D\n",
        "print(\"soma dos numeros par=\", somaPar)\n",
        "print(\"soma dos numeros impar=\",somaImpar)"
      ],
      "metadata": {
        "id": "_CiPNG_-e-fJ",
        "colab": {
          "base_uri": "https://localhost:8080/"
        },
        "outputId": "28f8d008-aa2f-41d4-d865-3c021d202e33"
      },
      "execution_count": null,
      "outputs": [
        {
          "output_type": "stream",
          "name": "stdout",
          "text": [
            "Digite quatro valores inteiros\n",
            "3\n",
            "5\n",
            "7\n",
            "10\n",
            "soma dos numeros par= 10\n",
            "soma dos numeros impar= 15\n"
          ]
        }
      ]
    },
    {
      "cell_type": "code",
      "source": [
        "\n",
        "print(\"Digite o primeiro horario hh:mm\")\n",
        "A = str(input())\n",
        "print(\"Digite o segundo horario hh:mm\")\n",
        "B = str(input())\n",
        "hora = int(A.split(':')[0])+ int(B.split(':')[0])\n",
        "minutos = int(A.split(':')[1])+ int(B.split(':')[1])\n",
        "if (minutos >= 60):\n",
        " hora += 1\n",
        " minutos -= 60\n",
        "print(f\"{hora}:{minutos}\")"
      ],
      "metadata": {
        "colab": {
          "base_uri": "https://localhost:8080/"
        },
        "id": "ndE5Xmr6szSu",
        "outputId": "47276e8c-0c51-442b-b256-95ebad3b78c8"
      },
      "execution_count": null,
      "outputs": [
        {
          "output_type": "stream",
          "name": "stdout",
          "text": [
            "Digite o primeiro horario hh:mm\n",
            "03:30\n",
            "Digite o segundo horario hh:mm\n",
            "04:40\n",
            "8:10\n"
          ]
        }
      ]
    },
    {
      "cell_type": "code",
      "source": [
        "print(\"informe o numero do mes\")\n",
        "N = int(input())\n",
        "if (N == 1):\n",
        "  print(\"O mes de janeiro faz parte do primeiro trimestre\")\n",
        "elif (N == 2):\n",
        "  print(\"O mes de fevereiro faz parte do primeiro trimestre\")\n",
        "elif (N == 3):\n",
        "  print(\"O mes demarço faz parte do primeiro trimestre\")\n",
        "elif (N == 4):\n",
        "  print(\"O mes de abril faz parte do segundo trimestre\")\n",
        "elif (N == 5):\n",
        "  print(\"O mes de maio faz parte do segundo trimestre\")\n",
        "elif (N == 6):\n",
        "  print(\"O mes de junho faz parte do segundo trimestre\")\n",
        "elif (N == 7):\n",
        "  print(\"O mes de julho faz parte do terceiro trimestre\")\n",
        "elif (N == 8):\n",
        "  print(\"O mes de agosto faz parte do terceiro trimestre\")\n",
        "elif (N == 9):\n",
        "  print(\"O mes de setembro faz parte do terceiro trimestre\")\n",
        "elif (N == 10):\n",
        "  print(\"O mes de outubro faz parte do quarto trimestre\")\n",
        "elif (N == 11):\n",
        "  print(\"O mes de novembro faz parte do quarto trimestre\")\n",
        "elif (N == 12):\n",
        "  print(\"O mes de dezembro faz parte do quarto trimestre\")\n",
        "else:\n",
        " print('mes invalido')\n",
        "\n",
        "\n",
        "\n",
        "\n"
      ],
      "metadata": {
        "colab": {
          "base_uri": "https://localhost:8080/"
        },
        "id": "w8AbLsMK06jD",
        "outputId": "95791c58-5c49-441c-feab-8325dc2c4f5a"
      },
      "execution_count": null,
      "outputs": [
        {
          "output_type": "stream",
          "name": "stdout",
          "text": [
            "informe o numero do mes\n",
            "7\n",
            "O mes de julho faz parte do terceiro trimestre\n"
          ]
        }
      ]
    },
    {
      "cell_type": "code",
      "source": [
        "print('digite tres valores inteiros')\n",
        "A = ()"
      ],
      "metadata": {
        "id": "kYeN_lt_7XAU"
      },
      "execution_count": null,
      "outputs": []
    },
    {
      "cell_type": "code",
      "source": [
        "b = 10\n",
        "a = 1\n",
        "while a<=b:\n",
        "  print(a)\n",
        "  a = a + 1\n"
      ],
      "metadata": {
        "colab": {
          "base_uri": "https://localhost:8080/"
        },
        "id": "jnO8sHcHihb-",
        "outputId": "f9d77353-58e0-4ffd-936e-7d7730110f3f"
      },
      "execution_count": null,
      "outputs": [
        {
          "output_type": "stream",
          "name": "stdout",
          "text": [
            "1\n",
            "2\n",
            "3\n",
            "4\n",
            "5\n",
            "6\n",
            "7\n",
            "8\n",
            "9\n",
            "10\n"
          ]
        }
      ]
    },
    {
      "cell_type": "code",
      "source": [
        "print('digite uma frase')\n",
        "A = str(input())\n",
        "B =len(A)\n",
        "C = 1\n",
        "while C<=B:\n",
        "  print(f'{C}-{A}')\n",
        "  C = C + 1"
      ],
      "metadata": {
        "colab": {
          "base_uri": "https://localhost:8080/"
        },
        "id": "_94tgQxwrY-F",
        "outputId": "d57ce7f1-7a7d-4214-df89-7a302bad973e"
      },
      "execution_count": null,
      "outputs": [
        {
          "output_type": "stream",
          "name": "stdout",
          "text": [
            "digite uma frase\n",
            "BRASIL\n",
            "1-BRASIL\n",
            "2-BRASIL\n",
            "3-BRASIL\n",
            "4-BRASIL\n",
            "5-BRASIL\n",
            "6-BRASIL\n"
          ]
        }
      ]
    },
    {
      "cell_type": "code",
      "source": [
        "print('digite uma frase')\n",
        "A = str(input())\n",
        "B =len(A)\n",
        "C = 1\n",
        "while C<=B:\n",
        "  print(f'{C}-{A}')\n",
        "  C = C + 1\n",
        "\n"
      ],
      "metadata": {
        "colab": {
          "base_uri": "https://localhost:8080/"
        },
        "id": "5sgpo_oBk1iD",
        "outputId": "bf8b865c-02e6-4d28-a4b9-e4ecde2e9afe"
      },
      "execution_count": null,
      "outputs": [
        {
          "output_type": "stream",
          "name": "stdout",
          "text": [
            "digite uma frase\n",
            "lupa de aço\n",
            "1-lupa de aço\n",
            "2-lupa de aço\n",
            "3-lupa de aço\n",
            "4-lupa de aço\n",
            "5-lupa de aço\n",
            "6-lupa de aço\n",
            "7-lupa de aço\n",
            "8-lupa de aço\n",
            "9-lupa de aço\n",
            "10-lupa de aço\n",
            "11-lupa de aço\n"
          ]
        }
      ]
    },
    {
      "cell_type": "code",
      "source": [
        "print('digite uma frase')\n",
        "A = str(input())\n",
        "B =len(A)\n",
        "print(B)"
      ],
      "metadata": {
        "colab": {
          "base_uri": "https://localhost:8080/"
        },
        "id": "OcHLf5SKK4dt",
        "outputId": "7b67b022-69b4-491f-95c1-e8d13b6f5d98"
      },
      "execution_count": null,
      "outputs": [
        {
          "output_type": "stream",
          "name": "stdout",
          "text": [
            "digite uma frase\n",
            "josefa linda josefa\n",
            "19\n"
          ]
        }
      ]
    },
    {
      "cell_type": "code",
      "source": [
        "print('digite uma frase')\n",
        "A =str(input())\n",
        "for variavel in A.split(\" \"):\n",
        "      tamanho = len(variavel)\n",
        "      print(variavel[tamanho-1])\n",
        "\n"
      ],
      "metadata": {
        "colab": {
          "base_uri": "https://localhost:8080/"
        },
        "id": "pJnA7_OOtF46",
        "outputId": "3b149100-73d6-46bb-cc15-0568d0467e70"
      },
      "execution_count": null,
      "outputs": [
        {
          "output_type": "stream",
          "name": "stdout",
          "text": [
            "digite uma frase\n",
            "benç~~a agora y\n",
            "a\n",
            "a\n",
            "y\n"
          ]
        }
      ]
    },
    {
      "cell_type": "code",
      "source": [
        "def menor(x,y):\n",
        "  if x<=y:\n",
        "   menor = x\n",
        "  else:\n",
        "   menor = y \n",
        "   return menor\n",
        "\n",
        "print(\"digite dois numeros\")\n",
        "x = int (input())\n",
        "y = int(input())\n",
        "print(f\"{menor(x,y)}\")"
      ],
      "metadata": {
        "colab": {
          "base_uri": "https://localhost:8080/"
        },
        "id": "9z-2VfuK6Ct1",
        "outputId": "639a744c-3878-4f4c-8f0e-66857f1e43d9"
      },
      "execution_count": null,
      "outputs": [
        {
          "output_type": "stream",
          "name": "stdout",
          "text": [
            "digite dois numeros\n",
            "34\n",
            "63\n",
            "None\n"
          ]
        }
      ]
    },
    {
      "cell_type": "code",
      "source": [
        "def senha(texto):\n",
        "    for variavel in texto.split(\" \"):\n",
        "     senha1 = len(variavel)\n",
        "    return senha\n",
        "\n",
        "print(\"digite um texto\")\n",
        "texto = str(input())\n",
        "\n",
        "print(f\"sua senha é {senha(texto)}\")"
      ],
      "metadata": {
        "colab": {
          "base_uri": "https://localhost:8080/"
        },
        "id": "dRj18qLoHyt-",
        "outputId": "d906bfee-f4b5-4a65-9794-c397811727ba"
      },
      "execution_count": null,
      "outputs": [
        {
          "output_type": "stream",
          "name": "stdout",
          "text": [
            "digite um texto\n",
            "rita de\n",
            "sua senha é <function senha at 0x7f23c1d14e50>\n"
          ]
        }
      ]
    }
  ]
}